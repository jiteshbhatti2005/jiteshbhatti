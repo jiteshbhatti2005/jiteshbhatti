{
 "cells": [
  {
   "cell_type": "code",
   "execution_count": 1,
   "id": "fbb537cd",
   "metadata": {
    "_cell_guid": "b1076dfc-b9ad-4769-8c92-a6c4dae69d19",
    "_uuid": "8f2839f25d086af736a60e9eeb907d3b93b6e0e5",
    "execution": {
     "iopub.execute_input": "2023-11-06T07:35:53.773920Z",
     "iopub.status.busy": "2023-11-06T07:35:53.772899Z",
     "iopub.status.idle": "2023-11-06T07:35:54.300431Z",
     "shell.execute_reply": "2023-11-06T07:35:54.298954Z"
    },
    "papermill": {
     "duration": 0.535623,
     "end_time": "2023-11-06T07:35:54.303672",
     "exception": false,
     "start_time": "2023-11-06T07:35:53.768049",
     "status": "completed"
    },
    "tags": []
   },
   "outputs": [
    {
     "name": "stdout",
     "output_type": "stream",
     "text": [
      "\n",
      "Keys of Stock dataset:\n",
      "Index(['Date', 'Open', 'High', 'Low', 'Close', 'Adj Close', 'Volume'], dtype='object')\n",
      "\n",
      "Number of rows and columns of Stock dataset:\n",
      "(127, 7)\n"
     ]
    }
   ],
   "source": [
    "#######################################################################################################\n",
    "#Name : - Jitesh Bhatti \n",
    "#Enrollment :- 216270307057\n",
    "#######################################################################################################\n",
    "\n",
    "import pandas as pd\n",
    "\n",
    "iris_data = pd.read_csv(\"../input/stock-csv/stock.csv\")\n",
    "\n",
    "print(\"\\nKeys of Stock dataset:\")\n",
    "print(iris_data.keys())\n",
    "\n",
    "print(\"\\nNumber of rows and columns of Stock dataset:\")\n",
    "print(iris_data.shape)"
   ]
  }
 ],
 "metadata": {
  "kernelspec": {
   "display_name": "Python 3",
   "language": "python",
   "name": "python3"
  },
  "language_info": {
   "codemirror_mode": {
    "name": "ipython",
    "version": 3
   },
   "file_extension": ".py",
   "mimetype": "text/x-python",
   "name": "python",
   "nbconvert_exporter": "python",
   "pygments_lexer": "ipython3",
   "version": "3.10.12"
  },
  "papermill": {
   "default_parameters": {},
   "duration": 5.053215,
   "end_time": "2023-11-06T07:35:54.928509",
   "environment_variables": {},
   "exception": null,
   "input_path": "__notebook__.ipynb",
   "output_path": "__notebook__.ipynb",
   "parameters": {},
   "start_time": "2023-11-06T07:35:49.875294",
   "version": "2.4.0"
  }
 },
 "nbformat": 4,
 "nbformat_minor": 5
}
