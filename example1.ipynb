{
 "cells": [
  {
   "cell_type": "code",
   "execution_count": 1,
   "id": "03e33006",
   "metadata": {
    "_cell_guid": "b1076dfc-b9ad-4769-8c92-a6c4dae69d19",
    "_uuid": "8f2839f25d086af736a60e9eeb907d3b93b6e0e5",
    "execution": {
     "iopub.execute_input": "2023-09-05T09:42:13.613230Z",
     "iopub.status.busy": "2023-09-05T09:42:13.612780Z",
     "iopub.status.idle": "2023-09-05T09:42:13.617446Z",
     "shell.execute_reply": "2023-09-05T09:42:13.616502Z"
    },
    "papermill": {
     "duration": 0.012585,
     "end_time": "2023-09-05T09:42:13.619552",
     "exception": false,
     "start_time": "2023-09-05T09:42:13.606967",
     "status": "completed"
    },
    "tags": []
   },
   "outputs": [],
   "source": [
    "#Practical - 2 : Write a NumPy program to implement following operation"
   ]
  },
  {
   "cell_type": "code",
   "execution_count": 2,
   "id": "26a0a911",
   "metadata": {
    "execution": {
     "iopub.execute_input": "2023-09-05T09:42:13.628810Z",
     "iopub.status.busy": "2023-09-05T09:42:13.628207Z",
     "iopub.status.idle": "2023-09-05T09:42:13.640864Z",
     "shell.execute_reply": "2023-09-05T09:42:13.639790Z"
    },
    "papermill": {
     "duration": 0.019899,
     "end_time": "2023-09-05T09:42:13.643481",
     "exception": false,
     "start_time": "2023-09-05T09:42:13.623582",
     "status": "completed"
    },
    "tags": []
   },
   "outputs": [
    {
     "name": "stdout",
     "output_type": "stream",
     "text": [
      "List is :  [7, 2, 5, 6, 3, 1]\n",
      "Array is :  [7, 2, 5, 6, 3, 1]\n"
     ]
    }
   ],
   "source": [
    "#to convert a list of numeric values into a one-dimensional NumPy array\n",
    "\n",
    "import numpy as np\n",
    "\n",
    "a = [7,2,5,6,3,1]\n",
    "print(\"List is : \",a)\n",
    "\n",
    "b = np.array(a)\n",
    "print(\"Array is : \",a)"
   ]
  }
 ],
 "kernelspec": {
  "display_name": "Python 3",
  "language": "python",
  "name": "python3"
 },
 "language_info": {
  "codemirror_mode": {
   "name": "ipython",
   "version": 3
  },
  "file_extension": ".py",
  "mimetype": "text/x-python",
  "name": "python",
  "nbconvert_exporter": "python",
  "pygments_lexer": "ipython3",
  "version": "3.6.4"
 },
 "metadata": {
  "kernelspec": {
   "display_name": "Python 3",
   "language": "python",
   "name": "python3"
  },
  "language_info": {
   "codemirror_mode": {
    "name": "ipython",
    "version": 3
   },
   "file_extension": ".py",
   "mimetype": "text/x-python",
   "name": "python",
   "nbconvert_exporter": "python",
   "pygments_lexer": "ipython3",
   "version": "3.10.12"
  },
  "papermill": {
   "default_parameters": {},
   "duration": 4.009251,
   "end_time": "2023-09-05T09:42:13.966962",
   "environment_variables": {},
   "exception": null,
   "input_path": "__notebook__.ipynb",
   "output_path": "__notebook__.ipynb",
   "parameters": {},
   "start_time": "2023-09-05T09:42:09.957711",
   "version": "2.4.0"
  }
 },
 "nbformat": 4,
 "nbformat_minor": 5
}
